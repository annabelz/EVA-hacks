{
 "cells": [
  {
   "cell_type": "code",
   "execution_count": 6,
   "id": "f1f2e9cc",
   "metadata": {},
   "outputs": [],
   "source": [
    "import requests\n",
    "import numpy as np \n",
    "import scipy\n",
    "from bs4 import BeautifulSoup"
   ]
  },
  {
   "cell_type": "code",
   "execution_count": 7,
   "id": "6891ded3",
   "metadata": {
    "scrolled": false
   },
   "outputs": [
    {
     "name": "stdout",
     "output_type": "stream",
     "text": [
      "Bachelor of Science (B.Sc.) - Major Computer Science and Biology | eCalendar - McGill University\n"
     ]
    }
   ],
   "source": [
    "page = requests.get('https://www.mcgill.ca/study/2021-2022/faculties/science/undergraduate/programs/bachelor-science-bsc-major-computer-science-and-biology')\n",
    "soup = BeautifulSoup(page.content, 'html.parser')\n",
    "title = soup.title.text # gets you the text of the <title>(...)</title>\n",
    "print(title)"
   ]
  },
  {
   "cell_type": "code",
   "execution_count": 98,
   "id": "fef790a6",
   "metadata": {},
   "outputs": [
    {
     "data": {
      "text/plain": [
       "['BIOL 219 Introduction to Physical\\r Molecular and Cell Biology (4 credits)',\n",
       " 'BIOL 301 Cell and Molecular Laboratory (4 credits)',\n",
       " 'BIOL 395 Quantitative Biology Seminar (1 credit)',\n",
       " 'CHEM 212 Introductory Organic Chemistry 1 (4 credits)',\n",
       " 'COMP 202 Foundations of Programming (3 credits)',\n",
       " 'MATH 222 Calculus 3 (3 credits)',\n",
       " 'MATH 223 Linear Algebra (3 credits)',\n",
       " 'MATH 323 Probability (3 credits)',\n",
       " 'COMP 204 Computer Programming for Life Sciences (3 credits)',\n",
       " 'COMP 206 Introduction to Software Systems (3 credits)',\n",
       " 'COMP 250 Introduction to Computer Science (3 credits)',\n",
       " 'COMP 251 Algorithms and Data Structures (3 credits)',\n",
       " 'MATH 240 Discrete Structures (3 credits)',\n",
       " 'BIOL 202 Basic Genetics (3 credits)',\n",
       " 'BIOL 215 Introduction to Ecology and Evolution (3 credits)',\n",
       " 'COMP 401 Project in Biology and Computer Science (3 credits)',\n",
       " 'COMP 462 Computational Biology Methods (3 credits)',\n",
       " 'COMP 561 Computational Biology Methods and Research (4 credits)',\n",
       " 'MATH 315 Ordinary Differential Equations (3 credits)',\n",
       " 'MATH 324 Statistics (3 credits)',\n",
       " 'COMP 273 Introduction to Computer Systems (3 credits)',\n",
       " 'COMP 302 Programming Languages and Paradigms (3 credits)',\n",
       " 'COMP 303 Software Design (3 credits)',\n",
       " 'COMP 307 Principles of Web Development (2 credits)',\n",
       " 'COMP 310 Operating Systems (3 credits)',\n",
       " 'COMP 322 Introduction to C++ (1 credit)',\n",
       " 'COMP 330 Theory of Computation (3 credits)',\n",
       " 'COMP 350 Numerical Computing (3 credits)',\n",
       " 'COMP 360 Algorithm Design (3 credits)',\n",
       " 'COMP 361D1 Software Engineering Project (3 credits)',\n",
       " 'COMP 361D2 Software Engineering Project (3 credits)',\n",
       " 'BIOL 300 Molecular Biology of the Gene (3 credits)',\n",
       " 'BIOL 303 Developmental Biology (3 credits)',\n",
       " 'BIOL 304 Evolution (3 credits)',\n",
       " 'BIOL 306 Neural Basis of Behaviour (3 credits)',\n",
       " 'BIOL 308 Ecological Dynamics (3 credits)',\n",
       " 'BIOL 309 Mathematical Models in Biology (3 credits)',\n",
       " 'BIOL 310 Biodiversity and Ecosystems (3 credits)',\n",
       " 'BIOL 313 Eukaryotic Cell Biology (3 credits)',\n",
       " 'BIOL 314 Molecular Biology of\\r Cancer (3 credits)',\n",
       " 'BIOL 316 Biomembranes and Organelles (3 credits)',\n",
       " 'BIOL 319 Introduction to Biophysics (3 credits)',\n",
       " 'BIOL 320 Evolution of Brain and Behaviour (3 credits)',\n",
       " 'BIOL 370 Human Genetics Applied (3 credits)',\n",
       " 'BIOL 389 Laboratory in Neurobiology (3 credits)',\n",
       " 'BIOL 395 Quantitative Biology Seminar (1 credit)',\n",
       " 'BIOL 416 Genetics of Mammalian Development (3 credits)',\n",
       " 'BIOL 434 Theoretical Ecology (3 credits)',\n",
       " 'BIOL 435 Natural Selection (3 credits)',\n",
       " 'BIOL 509 Methods in Molecular Ecology (3 credits)',\n",
       " 'BIOL 518 Advanced Topics in Cell Biology (3 credits)',\n",
       " 'BIOL 520 Gene Activity in Development (3 credits)',\n",
       " 'BIOL 524 Topics in Molecular Biology (3 credits)',\n",
       " 'BIOL 530 Advances in Neuroethology (3 credits)',\n",
       " 'BIOL 532 Developmental Neurobiology Seminar (3 credits)',\n",
       " 'BIOL 546 Genetics of Model Systems (3 credits)',\n",
       " 'BIOL 551 Principles of Cellular Control (3 credits)',\n",
       " 'BIOL 568 Topics on the Human Genome (3 credits)',\n",
       " 'BIOL 569 Developmental Evolution (3 credits)',\n",
       " 'BIOL 575 Human Biochemical Genetics (3 credits)',\n",
       " 'BIOL 580 Genetic Approaches to Neural Systems (3 credits)',\n",
       " 'BIOL 588 Advances in Molecular/Cellular Neurobiology (3 credits)',\n",
       " 'NEUR 310 Cellular Neurobiology (3 credits)']"
      ]
     },
     "execution_count": 98,
     "metadata": {},
     "output_type": "execute_result"
    }
   ],
   "source": [
    "major_courses = soup.find_all(class_=\"program-course-title\")\n",
    "major_courses = [major_courses[i].contents[0][15:major_courses[i].contents[0].index(\")\")+1] for i in range(0, len(major_courses))]\n",
    "major_courses"
   ]
  }
 ],
 "metadata": {
  "kernelspec": {
   "display_name": "scrapeenv",
   "language": "python",
   "name": "scrapeenv"
  },
  "language_info": {
   "codemirror_mode": {
    "name": "ipython",
    "version": 3
   },
   "file_extension": ".py",
   "mimetype": "text/x-python",
   "name": "python",
   "nbconvert_exporter": "python",
   "pygments_lexer": "ipython3",
   "version": "3.9.10"
  }
 },
 "nbformat": 4,
 "nbformat_minor": 5
}
